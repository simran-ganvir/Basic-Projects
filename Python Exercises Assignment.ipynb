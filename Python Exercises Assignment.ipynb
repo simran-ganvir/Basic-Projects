{
 "cells": [
  {
   "cell_type": "markdown",
   "metadata": {},
   "source": [
    "#### Write a program that reads an integer from the user. Then your program should display a message indicating whether the integer is even or odd."
   ]
  },
  {
   "cell_type": "code",
   "execution_count": 3,
   "metadata": {},
   "outputs": [
    {
     "name": "stdout",
     "output_type": "stream",
     "text": [
      "Enter number: 12\n",
      "12 is even number.\n"
     ]
    }
   ],
   "source": [
    "a = int(input(\"Enter number: \"))\n",
    "if (a % 2) == 0:\n",
    "    print(\"{0} is even number.\".format(a))\n",
    "else:\n",
    "    (print(\"{0} is odd number.\".format(a)))"
   ]
  },
  {
   "cell_type": "markdown",
   "metadata": {},
   "source": [
    "#### Write a program that implements the conversion from human years to dog years described in the previous paragraph. Ensure that your program works correctly for conversions of less than two human years and for conversions of two or more human years. Your program should display an appropriate error message if the user enters a negative number."
   ]
  },
  {
   "cell_type": "code",
   "execution_count": 17,
   "metadata": {},
   "outputs": [
    {
     "name": "stdout",
     "output_type": "stream",
     "text": [
      "Enter Dog's age in Human years: -1\n",
      "Enter valid age!!!!!\n"
     ]
    }
   ],
   "source": [
    "h_age = float(input(\"Enter Dog's age in Human years: \"))\n",
    "\n",
    "if h_age < 0:\n",
    "    print(\"Enter valid age!!!!!\")\n",
    "else:\n",
    "    if h_age <= 2:\n",
    "        d_age = h_age * 15\n",
    "        print(\"The dog's age will be = \", d_age)\n",
    "    else:\n",
    "        d_age = 21 + (h_age - 2)*4\n",
    "        print(\"The dog's age will be = \", d_age)"
   ]
  },
  {
   "cell_type": "markdown",
   "metadata": {},
   "source": [
    "#### Create a program that reads a letter of the alphabet from the user. If the user enters a, e, i, o or u then your program should display a message indicating that the entered letter is a vowel. If the user enters y then your program should display a message indicating that sometimes y is a vowel, and sometimes y is a consonant. Otherwise your program should display a message indicating that the letter is a consonant."
   ]
  },
  {
   "cell_type": "code",
   "execution_count": 21,
   "metadata": {},
   "outputs": [
    {
     "name": "stdout",
     "output_type": "stream",
     "text": [
      "Enter a letter: Y\n",
      "Sometimes Y can be vowel\n"
     ]
    }
   ],
   "source": [
    "a = input(\"Enter a letter: \")\n",
    "if a in (\"a\",\"e\",\"i\",\"o\",\"u\",\"A\",\"E\",\"I\",\"O\",\"U\"):\n",
    "    print(\"The letter is a vowel\")\n",
    "elif a == 'y' or 'Y':\n",
    "    print(\"Sometimes Y can be vowel\")\n",
    "else:\n",
    "    print(\"The letter is a consonant\")"
   ]
  },
  {
   "cell_type": "markdown",
   "metadata": {},
   "source": [
    "#### Write a program that determines the name of a shape from its number of sides. Read the number of sides from the user and then report the appropriate name as part of a meaningful message. Your program should support shapes with anywhere from 3 up to (and including) 10 sides. If a number of sides outside of this range is entered then your program should display an appropriate error message."
   ]
  },
  {
   "cell_type": "code",
   "execution_count": 27,
   "metadata": {},
   "outputs": [
    {
     "name": "stdout",
     "output_type": "stream",
     "text": [
      "Enter number of sides = 1\n",
      "Enter valid number of sides!!!!!\n"
     ]
    }
   ],
   "source": [
    "a = int(input(\"Enter number of sides = \"))\n",
    "if a <= 2:\n",
    "    print(\"Enter valid number of sides!!!!!\")\n",
    "else:\n",
    "    if a == 3:\n",
    "        print(\"It is a Triangle\")\n",
    "    elif a == 4:\n",
    "        print(\"It is a Quadrilateral\")\n",
    "    elif a == 5:\n",
    "        print(\"It is a Pentagon\")\n",
    "    elif a == 6:\n",
    "        print(\"It is a Hexagon\")\n",
    "    elif a == 7:\n",
    "        print(\"It is a Heptagon\")\n",
    "    elif a == 8:\n",
    "        print(\"It is a Octagon\")\n",
    "    elif a == 9:\n",
    "        print(\"It is a Nonagon\")\n",
    "    elif a == 10:\n",
    "        print(\"It is a Decagon\")\n",
    "    else:\n",
    "        print(\"It is out of range\")"
   ]
  },
  {
   "cell_type": "markdown",
   "metadata": {},
   "source": [
    "#### The length of a month varies from 28 to 31 days. In this exercise you will create a program that reads the name of a month from the user as a string. Then your program should display the number of days in that month. Display “28 or 29 days” for February so that leap years are addressed."
   ]
  },
  {
   "cell_type": "code",
   "execution_count": 38,
   "metadata": {},
   "outputs": [
    {
     "name": "stdout",
     "output_type": "stream",
     "text": [
      "Enter month = February\n",
      "It has 28 days & 29 days in leap year.\n"
     ]
    }
   ],
   "source": [
    "month_name = input(\"Enter month = \")\n",
    "if month_name == 'February':\n",
    "    print(\"It has 28 days & 29 days in leap year.\")\n",
    "elif month_name == 'April' or 'June' or 'September' or 'November':\n",
    "    print(\"It has 30 days.\")\n",
    "elif month_name == 'January' or 'March' or 'May' or 'July' or 'August' or 'October' or 'December' :\n",
    "    print(\"It has 31 days.\")\n",
    "else:\n",
    "    print(\"Invalid name!!!!\")"
   ]
  },
  {
   "cell_type": "markdown",
   "metadata": {},
   "source": [
    "#### Write a program that reads a sound level in decibels from the user. If the user enters a decibel level that matches one of the noises in the table then your program should display a message containing only that noise. If the user enters a number of decibels between the noises listed then your program should display a message indicating which noises the level is between. Ensure that your program also generates reasonable output for a value smaller than the quietest noise in the table, and for a value larger than the loudest noise in the table."
   ]
  },
  {
   "cell_type": "code",
   "execution_count": 47,
   "metadata": {},
   "outputs": [
    {
     "name": "stdout",
     "output_type": "stream",
     "text": [
      "Enter the number in Decibals = 120\n",
      "The noise range is in between Gas lawnmower & Jackhammer noise\n"
     ]
    }
   ],
   "source": [
    "decibal = float(input(\"Enter the number in Decibals = \"))\n",
    "if decibal < 40:\n",
    "    print(\"The room is quieter more than a Quiet room.\")\n",
    "elif decibal == 40:\n",
    "    print(\"The room is Quiet.\")\n",
    "elif decibal > 40 and decibal < 70:\n",
    "    print(\"The noise range is in between Quiet & Alarm clock\")\n",
    "elif decibal == 70:\n",
    "    print(\"Alarm clock noise\")\n",
    "elif decibal > 70 and decibal < 106:\n",
    "    print(\"The noise range is in between Alarm clock & Gas lawnmower\")\n",
    "elif decibal == 106:\n",
    "    print(\"Gas lawnmower noise\")\n",
    "elif decibal > 106 and decibal < 130:\n",
    "    print(\"The noise range is in between Gas lawnmower & Jackhammer noise\")\n",
    "elif decibal == 130:\n",
    "    print(\"Jackhammer noise\")\n",
    "else:\n",
    "    print(\"The room is noiser\")"
   ]
  },
  {
   "cell_type": "markdown",
   "metadata": {},
   "source": [
    "#### The following table lists an octave of music notes, beginning with middle C, along with their frequencies. Begin by writing a program that reads the name of a note from the user and displays the note’s frequency. Your program should support all of the notes listed previously. Once you have your program working correctly for the notes listed previously you should add support for all of the notes from C0 to C8. While this could be done by adding many additional cases to your if statement, such a solution is cumbersome, inelegant and unacceptable for the purposes of this exercise. Instead, you should exploit the relationship between notes in adjacent octaves. In particular, the frequency of any note in octave n is half the frequency of the corresponding note in octave n+1n+1. By using this relationship, you should be able to add support for the additional notes without adding additional cases to your if statement. Hint: To complete this exercise you will need to extract individual characters from the two-character note name so that you can work with the letter and the octave number separately. Once you have separated the parts, compute the frequency of the note in the fourth octave using the data in the table above. Then divide the frequency by 24−x24−x, where xx is the octave number entered by the user. This will halve or double the frequency the correct number of times."
   ]
  },
  {
   "cell_type": "code",
   "execution_count": 51,
   "metadata": {},
   "outputs": [
    {
     "name": "stdout",
     "output_type": "stream",
     "text": [
      "Enter a music note: C0\n",
      "The middle frequency for C series is:  261.63\n",
      "The frequency for C0 is:  10.90125\n"
     ]
    }
   ],
   "source": [
    "dict = {'C4':261.63, 'D4':293.66, 'E4':329.63, 'F4':349.23, 'G4':392.00, 'A4':440.00, 'B4':493.88}\n",
    "mnote = str(input(\"Enter a music note: \"))\n",
    "if mnote in dict.keys():\n",
    "    frq = dict[mnote]\n",
    "    print(\"The frequency corresponding to the note entered is: \",frq)\n",
    "else:\n",
    "    alp = mnote[0]\n",
    "    n = int(mnote[1])\n",
    "    ky = alp + \"4\"\n",
    "    middlefrq = dict[ky]\n",
    "    print(f\"The middle frequency for {alp} series is: \", middlefrq)\n",
    "    frq = middlefrq/(24-n)\n",
    "    print(f\"The frequency for {mnote} is: \",frq)"
   ]
  },
  {
   "cell_type": "markdown",
   "metadata": {},
   "source": [
    "#### In the previous question you converted from note name to frequency. In this question you will write a program that reverses that process. Begin by reading a frequency from the user. If the frequency is within one Hertz of a value listed in the table in the previous question then report the name of the note. Otherwise report that the frequency does not correspond to a known note. In this exercise you only need to consider the notes listed in the table. There is no need to consider notes from other octaves."
   ]
  },
  {
   "cell_type": "code",
   "execution_count": 54,
   "metadata": {},
   "outputs": [
    {
     "name": "stdout",
     "output_type": "stream",
     "text": [
      "Enter a Frequency: 440.00\n",
      "The note corresponding to the frequency entered is:  A4\n"
     ]
    }
   ],
   "source": [
    "dict = {'C4':261.63, 'D4':293.66, 'E4':329.63, 'F4':349.23, 'G4':392.00, 'A4':440.00, 'B4':493.88}\n",
    "mfrq = float(input(\"Enter a Frequency: \"))\n",
    "key_list = list(dict.keys())\n",
    "val_list = list(dict.values())\n",
    "position = val_list.index(mfrq)\n",
    "print(\"The note corresponding to the frequency entered is: \",key_list[position])"
   ]
  },
  {
   "cell_type": "markdown",
   "metadata": {},
   "source": [
    "#### The wavelength of visible light ranges from 380 to 750 nanometers(nm). While the spectrum is continous, it is often divided into 6 colors as shown below: Write a program that reads a wavelength entered by the user is outside of the visible spectrum."
   ]
  },
  {
   "cell_type": "code",
   "execution_count": 56,
   "metadata": {},
   "outputs": [
    {
     "name": "stdout",
     "output_type": "stream",
     "text": [
      "Enter wavelength = 666\n",
      "The color will be Red.\n"
     ]
    }
   ],
   "source": [
    "wl = int(input(\"Enter wavelength = \"))\n",
    "if wl >= 380 and wl < 450:\n",
    "    print(\"The color will be Violet.\")\n",
    "if wl >= 450 and wl < 495:\n",
    "    print(\"The color will be Blue.\")\n",
    "if wl >= 495 and wl < 570:\n",
    "    print(\"The color will be Green.\")\n",
    "if wl >= 570 and wl < 590:\n",
    "    print(\"The color will be Yellow.\")\n",
    "if wl >= 590 and wl < 620:\n",
    "    print(\"The color will be Orange.\")\n",
    "if wl >= 620 and wl < 750:\n",
    "    print(\"The color will be Red.\")"
   ]
  },
  {
   "cell_type": "markdown",
   "metadata": {},
   "source": [
    "#### When analysing data collected as part of a science experiment it may be desirable to remove the most extreme values before performing other calculations. Write a function that takes a list of values and an non-negative integer, n, as its parameters. The function should create a new copy of the list with the n largest elements and the n smallest elements removed. Then it should return the new copy of the list as the function’s only result. The order of the elements in the returned list does not have to match the order of the elements in the original list. Write a main program that demonstrates your function. Your function should read a list of numbers from the user and remove the two largest and two smallest values from it. Display the list with the outliers removed, followed by the original list. Your program should generate an appropriate error message if the user enters less than 4 values."
   ]
  },
  {
   "cell_type": "code",
   "execution_count": 4,
   "metadata": {},
   "outputs": [
    {
     "name": "stdout",
     "output_type": "stream",
     "text": [
      "Enter the length of list: 5\n",
      "Enter the 1 element of the list: 10\n",
      "Enter the 2 element of the list: 11\n",
      "Enter the 3 element of the list: 12\n",
      "Enter the 4 element of the list: 13\n",
      "Enter the 5 element of the list: 14\n",
      "The list created by user:  [10, 11, 12, 13, 14]\n",
      "Enter the no. of outliers to be removed from either side of the list: 1\n",
      "Calling function to trim the outliers.\n",
      "\n",
      "The list after deleting the outliers:  [11, 12, 13]\n",
      "The list created by user:  [11, 12, 13]\n"
     ]
    }
   ],
   "source": [
    "### In this case outliers are used for removing extreme values\n",
    "def outlr_func(vals, l, n):\n",
    "    vals.sort()\n",
    "    del vals[l-n: l]\n",
    "    del vals[0:n]\n",
    "    return vals\n",
    "user_input = []\n",
    "while True:\n",
    "    leng = int(input(\"Enter the length of list: \"))\n",
    "    if leng <= 4:\n",
    "        print(\"The length of the list should be minimum of 5. Please enter a value greater than 4.\")\n",
    "    else:\n",
    "        break\n",
    "for i in range(0,leng):\n",
    "     inp =  int(input(f\"Enter the {i+1} element of the list: \"))\n",
    "   \n",
    "     user_input.append(inp)\n",
    "    \n",
    "print(\"The list created by user: \",user_input)\n",
    "while True:\n",
    "    outlr = int(input(\"Enter the no. of outliers to be removed from either side of the list: \"))\n",
    "    if outlr + outlr >=  leng:\n",
    "        print(\"Entered no. of outliers should be lesser than the length of the list.\")\n",
    "    else:\n",
    "        break\n",
    "print(\"Calling function to trim the outliers.\")\n",
    "final_input = outlr_func(user_input, leng, outlr)\n",
    "print(\"\\nThe list after deleting the outliers: \", final_input)\n",
    "print(\"The list created by user: \",user_input)\n",
    "# list value changed, as they are mutable.\n"
   ]
  },
  {
   "cell_type": "markdown",
   "metadata": {},
   "source": [
    "#### In this exercise you will create a program that identifies all of the words in a string entered by the user. Begin by writing a function that takes a string of text as its only parameter. Your function should return a list of the words in the string with the punctuation marks at the edges of the words removed. The punctuation marks that you must remove include commas, periods, question marks, hyphens, apostrophes, exclamation points, colons, and semicolons. Do not remove punctuation marks that appear in the middle of a words, such as the apostrophes used to form a contraction. For example, if your function is provided with the string \"Examples of contractions include: don’t, isn’t, and wouldn’t.\" then your function should return the list [\"Examples\", \"of\", \"contractions\", \"include\", \"don’t\", \"isn’t\", \"and\", \"wouldn’t\"]. Write a main program that demonstrates your function. It should read a string from the user and display all of the words in the string with the punctuation marks removed. You will need to import your solution to this exercise when completing Exercise 158. As a result, you should ensure that your main program only runs when your file has not been imported into another program."
   ]
  },
  {
   "cell_type": "code",
   "execution_count": 3,
   "metadata": {},
   "outputs": [
    {
     "name": "stdout",
     "output_type": "stream",
     "text": [
      "Enter for string: Wel@#$\n",
      "Wel\n"
     ]
    }
   ],
   "source": [
    "def Punctuation(string):\n",
    "    # punctuation marks\n",
    "    punctuations = '''!()-[]{};:'\"\\,<>./?@#$%^&*_~''' \n",
    "    for x in string.lower():\n",
    "        if x in punctuations:\n",
    "            string = string.replace(x, \"\")\n",
    "\n",
    "    print(string) # Print string without punctuation\n",
    "\n",
    "string = str(input(\"Enter for string: \"))\n",
    "Punctuation(string)"
   ]
  },
  {
   "cell_type": "code",
   "execution_count": null,
   "metadata": {},
   "outputs": [],
   "source": []
  }
 ],
 "metadata": {
  "kernelspec": {
   "display_name": "Python 3",
   "language": "python",
   "name": "python3"
  },
  "language_info": {
   "codemirror_mode": {
    "name": "ipython",
    "version": 3
   },
   "file_extension": ".py",
   "mimetype": "text/x-python",
   "name": "python",
   "nbconvert_exporter": "python",
   "pygments_lexer": "ipython3",
   "version": "3.8.5"
  }
 },
 "nbformat": 4,
 "nbformat_minor": 4
}
