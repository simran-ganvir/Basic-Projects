{
 "cells": [
  {
   "cell_type": "markdown",
   "metadata": {},
   "source": [
    "#### Simple Message: Store a message in a variable, and then print that message."
   ]
  },
  {
   "cell_type": "code",
   "execution_count": 1,
   "metadata": {},
   "outputs": [
    {
     "name": "stdout",
     "output_type": "stream",
     "text": [
      "Hello!!!!!!\n"
     ]
    }
   ],
   "source": [
    "a = \"Hello!!!!!!\"\n",
    "print(a)"
   ]
  },
  {
   "cell_type": "markdown",
   "metadata": {},
   "source": [
    "#### Store a message in a variable and print that message. Then change the value of your variable to a new message and print the new message."
   ]
  },
  {
   "cell_type": "code",
   "execution_count": 2,
   "metadata": {},
   "outputs": [
    {
     "name": "stdout",
     "output_type": "stream",
     "text": [
      "I love learning Python.\n",
      "It's really satisfying!\n"
     ]
    }
   ],
   "source": [
    "msg = \"I love learning Python.\"\n",
    "print(msg)\n",
    "\n",
    "msg = \"It's really satisfying!\"\n",
    "print(msg)"
   ]
  },
  {
   "cell_type": "markdown",
   "metadata": {},
   "source": [
    "#### Store a person’s name in a variable and print a message to that person. Your message should be simple, such as, “Hello Eric, would you like to learn some Python today?”"
   ]
  },
  {
   "cell_type": "code",
   "execution_count": 7,
   "metadata": {},
   "outputs": [
    {
     "name": "stdout",
     "output_type": "stream",
     "text": [
      "Hello Simran would you like to learn some Python today?\n"
     ]
    }
   ],
   "source": [
    "a = \"Simran\"\n",
    "print(\"Hello \" + a + \" would you like to learn some Python today?\" )"
   ]
  },
  {
   "cell_type": "markdown",
   "metadata": {},
   "source": [
    "#### Find a quote from a famous person you admire. Print the quote and the name of its author. Your output should look something like the following, including the quotation marks: Albert Einstein once said, “A person who never made a mistake never tried anything new.”"
   ]
  },
  {
   "cell_type": "code",
   "execution_count": 10,
   "metadata": {},
   "outputs": [
    {
     "name": "stdout",
     "output_type": "stream",
     "text": [
      "Dalai Lama once said, The purpose of our lives is to be happy.\n"
     ]
    }
   ],
   "source": [
    "a = \"The purpose of our lives is to be happy.\"\n",
    "####“The purpose of our lives is to be happy.” — Dalai Lama\n",
    "print(\"Dalai Lama once said, \" + a)"
   ]
  },
  {
   "cell_type": "markdown",
   "metadata": {},
   "source": [
    "#### Repeat Exercise 4, but this time store the famous person’s name in a variable called famous_person. Then compose your message and store it in a new variable called message. Print your message."
   ]
  },
  {
   "cell_type": "code",
   "execution_count": 9,
   "metadata": {},
   "outputs": [
    {
     "name": "stdout",
     "output_type": "stream",
     "text": [
      "Dalai Lama once said, The purpose of our lives is to be happy.\n"
     ]
    }
   ],
   "source": [
    "a = \"The purpose of our lives is to be happy.\"\n",
    "####“The purpose of our lives is to be happy.” — Dalai Lama\n",
    "b = \"Dalai Lama\"\n",
    "print(b + \" once said, \" + a)"
   ]
  },
  {
   "cell_type": "markdown",
   "metadata": {},
   "source": [
    "#### Write addition, subtraction, multiplication, and division operations that each result in the number 8. Be sure to enclose your operations in print statements to see the results. You should create four lines that look like this: print (5 + 3) Your output should simply be four lines with the number 8 appearing once on each line."
   ]
  },
  {
   "cell_type": "code",
   "execution_count": 14,
   "metadata": {},
   "outputs": [
    {
     "name": "stdout",
     "output_type": "stream",
     "text": [
      "Enter number: 18\n",
      "Enter number: 6\n",
      "Result of Addition: 24\n",
      "Result of Subtraction: 12\n",
      "Result of Multiplication: 108\n",
      "Result of Division: 3.0\n"
     ]
    }
   ],
   "source": [
    "a = int(input(\"Enter number: \"))\n",
    "b = int(input(\"Enter number: \"))\n",
    "\n",
    "### Addition\n",
    "print(\"Result of Addition:\", int(a)+int(b))\n",
    "\n",
    "### Subtraction\n",
    "print(\"Result of Subtraction:\", int(a)-int(b))\n",
    "\n",
    "### Multiplication\n",
    "print(\"Result of Multiplication:\", int(a)*int(b))\n",
    "\n",
    "### Division\n",
    "print(\"Result of Division:\", int(a)/int(b))"
   ]
  },
  {
   "cell_type": "markdown",
   "metadata": {},
   "source": [
    "#### Store your favourite number in a variable. Then, using that variable, create a message that reveals your favourite number. Print that message."
   ]
  },
  {
   "cell_type": "code",
   "execution_count": 15,
   "metadata": {},
   "outputs": [
    {
     "name": "stdout",
     "output_type": "stream",
     "text": [
      "My favorite number is  12\n"
     ]
    }
   ],
   "source": [
    "int = 12\n",
    "print(\"My favorite number is \", int)"
   ]
  },
  {
   "cell_type": "markdown",
   "metadata": {},
   "source": [
    "#### Choose two of the programs you’ve written and add at least one comment to each. If you don’t have anything specific to write because your programs are too simple at this point, just add your name and the current date at the top of each program file. Then write one sentence describing what the program does."
   ]
  },
  {
   "cell_type": "code",
   "execution_count": 17,
   "metadata": {},
   "outputs": [
    {
     "name": "stdout",
     "output_type": "stream",
     "text": [
      "Enter number: 14\n",
      "Enter number: 7\n",
      "Result of Addition: 21.0\n",
      "Result of Subtraction: 7.0\n",
      "Result of Multiplication: 98.0\n",
      "Result of Division: 2.0\n",
      "Enter number to find its factorial : 5\n",
      "Factorial of 5.0 is 120.0\n"
     ]
    }
   ],
   "source": [
    "### Simran Ganvir\n",
    "### 17 May 2021\n",
    "a = float(input(\"Enter number: \"))\n",
    "b = float(input(\"Enter number: \"))\n",
    "\n",
    "### Addition\n",
    "print(\"Result of Addition:\", float(a)+float(b))\n",
    "\n",
    "### Subtraction\n",
    "print(\"Result of Subtraction:\", float(a)-float(b))\n",
    "\n",
    "### Multiplication\n",
    "print(\"Result of Multiplication:\", float(a)*float(b))\n",
    "\n",
    "### Division\n",
    "print(\"Result of Division:\", float(a)/float(b))\n",
    "\n",
    "### Simran Ganvir\n",
    "### 17 May 2021\n",
    "\n",
    "# Python 3 program to find\n",
    "# factorial of given number\n",
    "\n",
    "def factorial(n):\n",
    "    return 1 if (n==1 or n==0) else n * factorial(n - 1) ###Factorial\n",
    "\n",
    "num = float(input(\"Enter number to find its factorial : \"))\n",
    "print (\"Factorial of\",num,\"is\",\n",
    "    factorial(num))"
   ]
  },
  {
   "cell_type": "markdown",
   "metadata": {},
   "source": [
    "#### Store the names of a few of your friends in a list called names. Print each person’s name by accessing each element in the list, one at a time."
   ]
  },
  {
   "cell_type": "code",
   "execution_count": 18,
   "metadata": {},
   "outputs": [
    {
     "name": "stdout",
     "output_type": "stream",
     "text": [
      "Simran\n",
      "Jayesh\n",
      "Ruchi\n",
      "Sayli\n",
      "Kuki\n",
      "Veer\n"
     ]
    }
   ],
   "source": [
    "L_Name = [\"Simran\",\"Jayesh\",\"Ruchi\",\"Sayli\",\"Kuki\",\"Veer\"]\n",
    "#Loop through each Name.\n",
    "i = 0\n",
    "while i < len(L_Name):\n",
    "    print(L_Name[i])\n",
    "    i = i + 1"
   ]
  },
  {
   "cell_type": "code",
   "execution_count": 19,
   "metadata": {},
   "outputs": [
    {
     "name": "stdout",
     "output_type": "stream",
     "text": [
      "Simran\n",
      "Jayesh\n",
      "Ruchi\n",
      "Sayli\n",
      "Kuki\n",
      "Veer\n",
      "Hi Simran. How are you doing?\n",
      "Hi Jayesh. How are you doing?\n",
      "Hi Ruchi. How are you doing?\n",
      "Hi Sayli. How are you doing?\n",
      "Hi Kuki. How are you doing?\n",
      "Hi Veer. How are you doing?\n"
     ]
    }
   ],
   "source": [
    "L_Name = [\"Simran\",\"Jayesh\",\"Ruchi\",\"Sayli\",\"Kuki\",\"Veer\"]\n",
    "#Loop through each Name.\n",
    "i = 0\n",
    "while i < len(L_Name):\n",
    "    print(L_Name[i])\n",
    "    i = i + 1\n",
    "\n",
    "#Loop through each Name and print with Message.\n",
    "i = 0\n",
    "while i < len(L_Name):\n",
    "    print(\"Hi \"+L_Name[i]+\". How are you doing?\")\n",
    "    i = i + 1"
   ]
  },
  {
   "cell_type": "markdown",
   "metadata": {},
   "source": [
    "#### Think of your favourite mode of transportation, such as a motorcycle or a car, and make a list that stores several examples. Use your list to print a series of statements about these items, such as “I would like to own a Honda motorcycle.”"
   ]
  },
  {
   "cell_type": "code",
   "execution_count": 24,
   "metadata": {},
   "outputs": [
    {
     "name": "stdout",
     "output_type": "stream",
     "text": [
      "I would like to own a Bugatti La Voiture Noire car.\n"
     ]
    }
   ],
   "source": [
    "transport=[\"car\",\"bicycle\",\"motorcycle\",\"plane\",\"ship\"]\n",
    "declaration=\"I would like to own a Bugatti La Voiture Noire \"+transport[0]+'.'\n",
    "print(declaration)"
   ]
  },
  {
   "cell_type": "code",
   "execution_count": null,
   "metadata": {},
   "outputs": [],
   "source": []
  }
 ],
 "metadata": {
  "kernelspec": {
   "display_name": "Python 3",
   "language": "python",
   "name": "python3"
  },
  "language_info": {
   "codemirror_mode": {
    "name": "ipython",
    "version": 3
   },
   "file_extension": ".py",
   "mimetype": "text/x-python",
   "name": "python",
   "nbconvert_exporter": "python",
   "pygments_lexer": "ipython3",
   "version": "3.8.5"
  }
 },
 "nbformat": 4,
 "nbformat_minor": 4
}
